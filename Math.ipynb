{
 "cells": [
  {
   "cell_type": "code",
   "execution_count": 1,
   "metadata": {},
   "outputs": [],
   "source": [
    "#1.Count Odd Numbers in an Interval Range\n",
    "#https://leetcode.com/problems/count-odd-numbers-in-an-interval-range/?envType=study-plan-v2&envId=programming-skills\n",
    "class Solution:\n",
    "    def countOdds(self, low: int, high: int) -> int:\n",
    "        count=(high+1)//2-low//2\n",
    "        return count"
   ]
  },
  {
   "cell_type": "code",
   "execution_count": 3,
   "metadata": {},
   "outputs": [],
   "source": [
    "#2.Average Salary Excluding the Minimum and Maximum Salary\n",
    "#https://leetcode.com/problems/average-salary-excluding-the-minimum-and-maximum-salary/?envType=study-plan-v2&envId=programming-skills\n",
    "from typing import List\n",
    "class Solution:\n",
    "    def average(self, salary: List[int]) -> float:\n",
    "        total_salary=sum(salary)-min(salary)-max(salary)\n",
    "        avg_salary=total_salary/(len(salary)-2)\n",
    "        return avg_salary"
   ]
  },
  {
   "cell_type": "code",
   "execution_count": 9,
   "metadata": {},
   "outputs": [],
   "source": [
    "#3 Lemonade Change\n",
    "# https://leetcode.com/problems/lemonade-change/?envType=study-plan-v2&envId=programming-skills\n",
    "class Solution:\n",
    "    def lemonadeChange(self, bills: List[int]) -> bool:\n",
    "        bills_count={5:0,10:0,20:0}\n",
    "        for x in bills:\n",
    "            bills_count[x]+=1\n",
    "            if x==10:\n",
    "               bills_count[5]-=1\n",
    "            elif x==20:\n",
    "                if bills_count[10]>0:\n",
    "                   bills_count[10]-=1\n",
    "                   bills_count[5]-=1\n",
    "                else:\n",
    "                    bills_count[5]-=3\n",
    "            if bills_count[5]<0 or bills_count[10]<0:\n",
    "                return False\n",
    "        return True\n"
   ]
  },
  {
   "cell_type": "code",
   "execution_count": 4,
   "metadata": {},
   "outputs": [],
   "source": [
    "#4 Largest Perimeter Triangle\n",
    "# https://leetcode.com/problems/largest-perimeter-triangle/?envType=study-plan-v2&envId=programming-skills\n",
    "class Solution:\n",
    "    def largestPerimeter(self, nums: List[int]) -> int:\n",
    "        nums.sort(reverse=True)\n",
    "        for i in range(len(nums)-2):\n",
    "            if nums[i]<nums[i+1]+nums[i+2]:\n",
    "                return nums[i]+nums[i+1]+nums[i+2]\n",
    "        return 0"
   ]
  },
  {
   "cell_type": "code",
   "execution_count": 5,
   "metadata": {},
   "outputs": [],
   "source": [
    "#5. Check If It Is a Straight Line\n",
    "# https://leetcode.com/problems/check-if-it-is-a-straight-line/?envType=study-plan-v2&envId=programming-skills\n",
    "class Solution:\n",
    "    def checkStraightLine(self, coordinates: List[List[int]]) -> bool:\n",
    "        if len(coordinates) <= 2:\n",
    "            return True \n",
    "        x0, y0 = coordinates[0]\n",
    "        x1, y1 = coordinates[1]\n",
    "        dx, dy = x1 - x0, y1 - y0\n",
    "        for i in range(2, len(coordinates)):\n",
    "            xi, yi = coordinates[i]\n",
    "            vx, vy = xi - x0, yi - y0\n",
    "\n",
    "            if dx * vy - dy * vx != 0:\n",
    "                return False\n",
    "        return True"
   ]
  },
  {
   "cell_type": "code",
   "execution_count": 6,
   "metadata": {},
   "outputs": [],
   "source": [
    "#6 Add Binary\n",
    "# https://leetcode.com/problems/add-binary/?envType=study-plan-v2&envId=programming-skills\n",
    "class Solution:\n",
    "    def addBinary(self, a: str, b: str) -> str:\n",
    "       result=\"\"\n",
    "       carry=0\n",
    "       a,b=a[::-1],b[::-1]\n",
    "       for i in range (max(len(a),len(b))):\n",
    "           A=ord(a[i])-ord(\"0\") if i<len(a) else 0\n",
    "           B=ord(b[i])-ord(\"0\") if i<len(b) else 0\n",
    "           total=A+B+carry\n",
    "           char=str(total%2)\n",
    "           result=char+result\n",
    "           carry=total//2   \n",
    "       if carry:\n",
    "            result=\"1\"+result\n",
    "       return result"
   ]
  },
  {
   "cell_type": "code",
   "execution_count": 7,
   "metadata": {},
   "outputs": [],
   "source": [
    "#7 Multiply Strings\n",
    "#https://leetcode.com/problems/multiply-strings/?envType=study-plan-v2&envId=programming-skills\n",
    "class Solution:\n",
    "    def multiply(self, num1: str, num2: str) -> str:\n",
    "        result=int(num1)*int(num2)\n",
    "        return str(result)"
   ]
  },
  {
   "cell_type": "code",
   "execution_count": 8,
   "metadata": {},
   "outputs": [],
   "source": [
    "#8 Pow(x, n)\n",
    "# https://leetcode.com/problems/powx-n/?envType=study-plan-v2&envId=programming-skills\n",
    "class Solution:\n",
    "    def myPow(self, x: float, n: int) -> float:\n",
    "        import math\n",
    "        from math import pow\n",
    "        x=pow(x,n)\n",
    "        return x\n"
   ]
  }
 ],
 "metadata": {
  "kernelspec": {
   "display_name": "Python 3",
   "language": "python",
   "name": "python3"
  },
  "language_info": {
   "codemirror_mode": {
    "name": "ipython",
    "version": 3
   },
   "file_extension": ".py",
   "mimetype": "text/x-python",
   "name": "python",
   "nbconvert_exporter": "python",
   "pygments_lexer": "ipython3",
   "version": "3.8.5"
  }
 },
 "nbformat": 4,
 "nbformat_minor": 4
}
