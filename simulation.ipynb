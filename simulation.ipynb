{
 "cells": [
  {
   "cell_type": "code",
   "execution_count": 1,
   "metadata": {},
   "outputs": [],
   "source": [
    "#1. Baseball Game\n",
    "# https://leetcode.com/problems/baseball-game/?envType=study-plan-v2&envId=programming-skills\n",
    "from typing import List\n",
    "\n",
    "class Solution:\n",
    "    def calPoints(self, operations: List[str]) -> int:\n",
    "        scores = []\n",
    "\n",
    "        for op in operations:\n",
    "            if op == \"C\":\n",
    "                scores.pop()\n",
    "            elif op == \"D\":\n",
    "                scores.append(scores[-1] * 2)\n",
    "            elif op == \"+\":\n",
    "                scores.append(scores[-1] + scores[-2])\n",
    "            else:\n",
    "                scores.append(int(op))\n",
    "\n",
    "        return sum(scores)"
   ]
  },
  {
   "cell_type": "code",
   "execution_count": 2,
   "metadata": {},
   "outputs": [],
   "source": [
    "#2 Robot Return to Origin\n",
    "# https://leetcode.com/problems/robot-return-to-origin/?envType=study-plan-v2&envId=programming-skills\n",
    "class Solution:\n",
    "    def judgeCircle(self, moves: str) -> bool:\n",
    "        horizontal=0\n",
    "        vertical=0\n",
    "        for move in moves:\n",
    "            if move==\"U\":\n",
    "                horizontal+=1\n",
    "            elif move==\"D\":\n",
    "                horizontal-=1\n",
    "            elif move==\"R\":\n",
    "                vertical+=1\n",
    "            elif move==\"L\":\n",
    "                vertical-=1\n",
    "        return horizontal==0 and vertical==0"
   ]
  },
  {
   "cell_type": "code",
   "execution_count": 7,
   "metadata": {},
   "outputs": [],
   "source": [
    " #3.Find Winner on a Tic Tac Toe Game\n",
    "#https://leetcode.com/problems/find-winner-on-a-tic-tac-toe-game/?envType=study-plan-v2&envId=programming-skills\n",
    "class Solution:\n",
    "    def tictactoe(self, moves: List[List[int]]) -> str:\n",
    "        n=3\n",
    "        row=[0]*n\n",
    "        col=[0]*n\n",
    "        diag=antidiag=0\n",
    "        for i, move in enumerate(moves):\n",
    "            rows, cols = move\n",
    "            player = 'A' if i % 2 == 0 else 'B'\n",
    "            row[rows] += 1 if player == 'A' else -1\n",
    "            col[cols] += 1 if player == 'A' else -1\n",
    "            if rows == cols:\n",
    "               diag += 1 if player == 'A' else -1\n",
    "            if rows + cols == n - 1:\n",
    "               antidiag += 1 if player == 'A' else -1\n",
    "            if abs(row[rows]) == n or abs(col[cols]) == n or abs(diag) == n or abs(antidiag)==n:\n",
    "                    return player\n",
    "        if len(moves) == n * n:\n",
    "            return 'Draw'\n",
    "        else:\n",
    "            return 'Pending'"
   ]
  },
  {
   "cell_type": "code",
   "execution_count": 8,
   "metadata": {},
   "outputs": [],
   "source": [
    "#4 Robot Bounded In Circle\n",
    "#https://leetcode.com/problems/robot-bounded-in-circle/submissions/?envType=study-plan-v2&envId=programming-skills\n",
    "class Solution:\n",
    "    def isRobotBounded(self, instructions: str) -> bool:\n",
    "      direction = [(0, 1), (1, 0), (0, -1), (-1, 0)]\n",
    "      x, y = 0, 0\n",
    "      direction_index = 0  \n",
    "      for instruction in instructions:\n",
    "            if instruction == 'G':\n",
    "                x += direction[direction_index][0]\n",
    "                y += direction[direction_index][1]\n",
    "            elif instruction == 'L':\n",
    "                direction_index = (direction_index - 1) % 4\n",
    "            elif instruction == 'R':\n",
    "                direction_index = (direction_index + 1) % 4\n",
    "      return (x, y) == (0, 0) or direction_index != 0"
   ]
  }
 ],
 "metadata": {
  "kernelspec": {
   "display_name": "Python 3",
   "language": "python",
   "name": "python3"
  },
  "language_info": {
   "codemirror_mode": {
    "name": "ipython",
    "version": 3
   },
   "file_extension": ".py",
   "mimetype": "text/x-python",
   "name": "python",
   "nbconvert_exporter": "python",
   "pygments_lexer": "ipython3",
   "version": "3.8.5"
  }
 },
 "nbformat": 4,
 "nbformat_minor": 4
}
