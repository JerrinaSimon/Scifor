{
 "cells": [
  {
   "cell_type": "code",
   "execution_count": 1,
   "metadata": {},
   "outputs": [],
   "source": [
    "import pandas as pd\n",
    "from sklearn.model_selection import train_test_split\n",
    "import numpy as np"
   ]
  },
  {
   "cell_type": "code",
   "execution_count": 2,
   "metadata": {},
   "outputs": [
    {
     "data": {
      "text/html": [
       "<div>\n",
       "<style scoped>\n",
       "    .dataframe tbody tr th:only-of-type {\n",
       "        vertical-align: middle;\n",
       "    }\n",
       "\n",
       "    .dataframe tbody tr th {\n",
       "        vertical-align: top;\n",
       "    }\n",
       "\n",
       "    .dataframe thead th {\n",
       "        text-align: right;\n",
       "    }\n",
       "</style>\n",
       "<table border=\"1\" class=\"dataframe\">\n",
       "  <thead>\n",
       "    <tr style=\"text-align: right;\">\n",
       "      <th></th>\n",
       "      <th>Calorie_intake</th>\n",
       "      <th>Exercise_Hours/Week</th>\n",
       "      <th>Age</th>\n",
       "      <th>Weight</th>\n",
       "    </tr>\n",
       "  </thead>\n",
       "  <tbody>\n",
       "    <tr>\n",
       "      <th>0</th>\n",
       "      <td>2500</td>\n",
       "      <td>3</td>\n",
       "      <td>30</td>\n",
       "      <td>70</td>\n",
       "    </tr>\n",
       "    <tr>\n",
       "      <th>1</th>\n",
       "      <td>2000</td>\n",
       "      <td>2</td>\n",
       "      <td>25</td>\n",
       "      <td>65</td>\n",
       "    </tr>\n",
       "    <tr>\n",
       "      <th>2</th>\n",
       "      <td>3000</td>\n",
       "      <td>4</td>\n",
       "      <td>35</td>\n",
       "      <td>80</td>\n",
       "    </tr>\n",
       "    <tr>\n",
       "      <th>3</th>\n",
       "      <td>1800</td>\n",
       "      <td>1</td>\n",
       "      <td>22</td>\n",
       "      <td>60</td>\n",
       "    </tr>\n",
       "    <tr>\n",
       "      <th>4</th>\n",
       "      <td>2800</td>\n",
       "      <td>3</td>\n",
       "      <td>28</td>\n",
       "      <td>75</td>\n",
       "    </tr>\n",
       "  </tbody>\n",
       "</table>\n",
       "</div>"
      ],
      "text/plain": [
       "   Calorie_intake  Exercise_Hours/Week  Age  Weight\n",
       "0            2500                    3   30      70\n",
       "1            2000                    2   25      65\n",
       "2            3000                    4   35      80\n",
       "3            1800                    1   22      60\n",
       "4            2800                    3   28      75"
      ]
     },
     "execution_count": 2,
     "metadata": {},
     "output_type": "execute_result"
    }
   ],
   "source": [
    "df=pd.read_csv(\"weight_data.csv\")\n",
    "df.head()\n"
   ]
  },
  {
   "cell_type": "code",
   "execution_count": 3,
   "metadata": {},
   "outputs": [],
   "source": [
    "X = df[['Calorie_intake','Exercise_Hours/Week', 'Age']].values\n",
    "Y = df['Weight'].values"
   ]
  },
  {
   "cell_type": "code",
   "execution_count": 4,
   "metadata": {},
   "outputs": [],
   "source": [
    "X_train,X_test,Y_train,Y_test=train_test_split(X,Y,test_size=0.2,random_state=42)"
   ]
  },
  {
   "cell_type": "code",
   "execution_count": 5,
   "metadata": {},
   "outputs": [],
   "source": [
    "X_train = np.vstack((np.ones((X_train.shape[0], )), X_train.T)).T\n",
    "X_test = np.vstack((np.ones((X_test.shape[0], )), X_test.T)).T"
   ]
  },
  {
   "cell_type": "code",
   "execution_count": 6,
   "metadata": {},
   "outputs": [],
   "source": [
    "def regression(X, Y, learning_rate, epochs):\n",
    "    n_samples, m = X.shape\n",
    "    theta = np.zeros((m))\n",
    "    cost_list = []\n",
    "\n",
    "    for i in range(epochs):\n",
    "        y_pred = np.dot(X, theta)\n",
    "        cost = (1 / (2 * n_samples)) * np.sum(np.square( y_pred - Y))\n",
    "        cost_list.append(cost)\n",
    "\n",
    "        gradient = (1 / n_samples) * np.dot(X.T,( y_pred - Y))\n",
    "        theta -= learning_rate * gradient\n",
    "\n",
    "    return theta, cost_list"
   ]
  },
  {
   "cell_type": "code",
   "execution_count": 7,
   "metadata": {},
   "outputs": [],
   "source": [
    "theta, cost_list = regression(X_train, Y_train, learning_rate=0.0000001, epochs=1000)\n",
    "\n",
    "y_pred_test = np.dot(X_test, theta)"
   ]
  },
  {
   "cell_type": "code",
   "execution_count": 8,
   "metadata": {},
   "outputs": [
    {
     "name": "stdout",
     "output_type": "stream",
     "text": [
      "Mean Squared Error (MSE): 46.24660316440958\n",
      "Root Mean Squared Error (RMSE): 6.8004855094625105\n",
      "Mean Absolute Error (MAE): 5.511455244966308\n",
      "R-squared (R2): 0.8658546681235401\n"
     ]
    }
   ],
   "source": [
    "#evaluating the metrics\n",
    "mse = np.mean((Y_test - y_pred_test) ** 2)\n",
    "rmse = np.sqrt(mse)\n",
    "mae = np.mean(np.abs(Y_test - y_pred_test))\n",
    "total_variance = np.sum((Y_test - np.mean(Y_test))**2)\n",
    "r2 = 1 - (mse / total_variance)\n",
    "\n",
    "# Print results\n",
    "print(\"Mean Squared Error (MSE):\", mse)\n",
    "print(\"Root Mean Squared Error (RMSE):\", rmse)\n",
    "print(\"Mean Absolute Error (MAE):\", mae)\n",
    "print(\"R-squared (R2):\", r2)"
   ]
  },
  {
   "cell_type": "code",
   "execution_count": 18,
   "metadata": {},
   "outputs": [
    {
     "name": "stdout",
     "output_type": "stream",
     "text": [
      "   Actual  Predicted  Difference\n",
      "0      70  72.121984   -2.121984\n",
      "1      88  89.437472   -1.437472\n",
      "2      66  54.814600   11.185400\n",
      "3      65  57.699035    7.300965\n"
     ]
    }
   ],
   "source": [
    "data = pd.DataFrame().assign(\n",
    "    Actual=Y_test,\n",
    "    Predicted=y_pred_test,\n",
    "    Difference=Y_test - y_pred_test\n",
    ")\n",
    "print(data)"
   ]
  },
  {
   "cell_type": "code",
   "execution_count": 20,
   "metadata": {},
   "outputs": [
    {
     "data": {
      "image/png": "[encoded data removed]",
      "text/plain": [
       "<Figure size 640x480 with 1 Axes>"
      ]
     },
     "metadata": {},
     "output_type": "display_data"
    }
   ],
   "source": [
    "import matplotlib.pyplot as plt\n",
    "plt.scatter(data['Actual'], data['Predicted'], label='Actual vs. Predicted', marker='o')\n",
    "plt.plot(data['Actual'], data['Actual'], marker='o', linestyle='-', color='red', label='perfect fit')\n",
    "\n",
    "plt.xlabel('Actual Values')\n",
    "plt.ylabel('Predicted Values')\n",
    "plt.title('Actual vs. Predicted Values for Multiple Linear Regression')\n",
    "plt.legend()\n",
    "plt.show()"
   ]
  }
 ],
 "metadata": {
  "kernelspec": {
   "display_name": "Python 3",
   "language": "python",
   "name": "python3"
  },
  "language_info": {
   "codemirror_mode": {
    "name": "ipython",
    "version": 3
   },
   "file_extension": ".py",
   "mimetype": "text/x-python",
   "name": "python",
   "nbconvert_exporter": "python",
   "pygments_lexer": "ipython3",
   "version": "3.10.5"
  }
 },
 "nbformat": 4,
 "nbformat_minor": 2
}
