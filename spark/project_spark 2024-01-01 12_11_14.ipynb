{
 "cells": [
  {
   "cell_type": "code",
   "execution_count": 0,
   "metadata": {
    "application/vnd.databricks.v1+cell": {
     "cellMetadata": {
      "byteLimit": 2048000,
      "rowLimit": 10000
     },
     "inputWidgets": {},
     "nuid": "5bf6a15f-8ed9-402d-a8cb-2a6c148f4997",
     "showTitle": false,
     "title": ""
    }
   },
   "outputs": [
    {
     "output_type": "stream",
     "name": "stdout",
     "output_type": "stream",
     "text": [
      "Out[5]: DataFrame[_c0: string, _c1: string, _c2: string, _c3: string, _c4: string, _c5: string]"
     ]
    }
   ],
   "source": [
    "spark.read.format(\"csv\") \\\n",
    "     .option(\"header\", \"false\") \\\n",
    "     .option(\"inferschema\", \"false\") \\\n",
    "     .option(\"mode\", \"FAILFAST\") \\\n",
    "     .load(\"/FileStore/tables/Salary_Data.csv\")\n"
   ]
  },
  {
   "cell_type": "code",
   "execution_count": 0,
   "metadata": {
    "application/vnd.databricks.v1+cell": {
     "cellMetadata": {
      "byteLimit": 2048000,
      "rowLimit": 10000
     },
     "inputWidgets": {},
     "nuid": "6782222a-eb91-4071-bc1f-692a5a5d69fe",
     "showTitle": false,
     "title": ""
    }
   },
   "outputs": [
    {
     "output_type": "stream",
     "name": "stdout",
     "output_type": "stream",
     "text": [
      "+---+------+---------------+-----------------+-------------------+------+\n|Age|Gender|Education Level|        Job Title|Years of Experience|Salary|\n+---+------+---------------+-----------------+-------------------+------+\n| 32|  Male|     Bachelor's|Software Engineer|                  5| 90000|\n| 28|Female|       Master's|     Data Analyst|                  3| 65000|\n| 45|  Male|            PhD|   Senior Manager|                 15|150000|\n| 36|Female|     Bachelor's|  Sales Associate|                  7| 60000|\n| 52|  Male|       Master's|         Director|                 20|200000|\n+---+------+---------------+-----------------+-------------------+------+\nonly showing top 5 rows\n\n"
     ]
    }
   ],
   "source": [
    "df=spark.read.format(\"csv\") \\\n",
    "   .option(\"header\", \"true\") \\\n",
    "     .option(\"inferschema\", \"false\") \\\n",
    "     .option(\"mode\", \"FAILFAST\") \\\n",
    "     .load(\"/FileStore/tables/Salary_Data.csv\")\n",
    "df.show(5)"
   ]
  },
  {
   "cell_type": "code",
   "execution_count": 0,
   "metadata": {
    "application/vnd.databricks.v1+cell": {
     "cellMetadata": {
      "byteLimit": 2048000,
      "rowLimit": 10000
     },
     "inputWidgets": {},
     "nuid": "78fdbfb1-382b-435a-9733-24065f5954f1",
     "showTitle": false,
     "title": ""
    }
   },
   "outputs": [
    {
     "output_type": "stream",
     "name": "stdout",
     "output_type": "stream",
     "text": [
      "+-------------------+-----+\n|Years of Experience|count|\n+-------------------+-----+\n|                  7|   18|\n|                 15|   16|\n|                 11|   10|\n|                  3|   30|\n|                  8|   25|\n|                 22|    9|\n|                 16|   18|\n|                  0|    3|\n|               null|    2|\n|                  5|   17|\n|                 18|   13|\n|                 17|    5|\n|                  6|   12|\n|                 19|   15|\n|                0.5|    1|\n|                 23|    2|\n|                 25|    3|\n|                1.5|   12|\n|                  9|   22|\n|                 24|    1|\n+-------------------+-----+\nonly showing top 20 rows\n\n"
     ]
    }
   ],
   "source": [
    "res=df.groupBy(\"Years of Experience\")\n",
    "result=res.count()\n",
    "result.show()"
   ]
  },
  {
   "cell_type": "code",
   "execution_count": 0,
   "metadata": {
    "application/vnd.databricks.v1+cell": {
     "cellMetadata": {
      "byteLimit": 2048000,
      "rowLimit": 10000
     },
     "inputWidgets": {},
     "nuid": "5803f4a1-3866-443b-81aa-ec9c0ebb9ce6",
     "showTitle": false,
     "title": ""
    }
   },
   "outputs": [
    {
     "output_type": "stream",
     "name": "stdout",
     "output_type": "stream",
     "text": [
      "+---+------+---------------+--------------------+-------------------+------+\n|Age|Gender|Education Level|           Job Title|Years of Experience|Salary|\n+---+------+---------------+--------------------+-------------------+------+\n| 32|  Male|     Bachelor's|   Software Engineer|                  5| 90000|\n| 28|Female|       Master's|        Data Analyst|                  3| 65000|\n| 45|  Male|            PhD|      Senior Manager|                 15|150000|\n| 36|Female|     Bachelor's|     Sales Associate|                  7| 60000|\n| 52|  Male|       Master's|            Director|                 20|200000|\n| 29|  Male|     Bachelor's|   Marketing Analyst|                  2| 55000|\n| 42|Female|       Master's|     Product Manager|                 12|120000|\n| 31|  Male|     Bachelor's|       Sales Manager|                  4| 80000|\n| 26|Female|     Bachelor's|Marketing Coordin...|                  1| 45000|\n| 38|  Male|            PhD|    Senior Scientist|                 10|110000|\n| 29|  Male|       Master's|  Software Developer|                  3| 75000|\n| 48|Female|     Bachelor's|          HR Manager|                 18|140000|\n| 35|  Male|     Bachelor's|   Financial Analyst|                  6| 65000|\n| 40|Female|       Master's|     Project Manager|                 14|130000|\n| 27|  Male|     Bachelor's|Customer Service Rep|                  2| 40000|\n| 44|  Male|     Bachelor's|  Operations Manager|                 16|125000|\n| 33|Female|       Master's|   Marketing Manager|                  7| 90000|\n| 39|  Male|            PhD|     Senior Engineer|                 12|115000|\n| 25|Female|     Bachelor's|    Data Entry Clerk|                  0| 35000|\n| 51|  Male|     Bachelor's|      Sales Director|                 22|180000|\n+---+------+---------------+--------------------+-------------------+------+\nonly showing top 20 rows\n\n"
     ]
    }
   ],
   "source": [
    "df.show()"
   ]
  },
  {
   "cell_type": "code",
   "execution_count": 0,
   "metadata": {
    "application/vnd.databricks.v1+cell": {
     "cellMetadata": {
      "byteLimit": 2048000,
      "rowLimit": 10000
     },
     "inputWidgets": {},
     "nuid": "4724d18c-9731-4b4e-bf13-9dc0a61ff9b1",
     "showTitle": false,
     "title": ""
    }
   },
   "outputs": [
    {
     "output_type": "stream",
     "name": "stdout",
     "output_type": "stream",
     "text": [
      "root\n |-- Age: string (nullable = true)\n |-- Gender: string (nullable = true)\n |-- Education Level: string (nullable = true)\n |-- Job Title: string (nullable = true)\n |-- Years of Experience: string (nullable = true)\n |-- Salary: string (nullable = true)\n\n"
     ]
    }
   ],
   "source": [
    "df.printSchema()"
   ]
  }
 ],
 "metadata": {
  "application/vnd.databricks.v1+notebook": {
   "dashboards": [],
   "language": "python",
   "notebookMetadata": {
    "pythonIndentUnit": 4
   },
   "notebookName": "project_spark 2024-01-01 12:11:14",
   "widgets": {}
  }
 },
 "nbformat": 4,
 "nbformat_minor": 0
}
