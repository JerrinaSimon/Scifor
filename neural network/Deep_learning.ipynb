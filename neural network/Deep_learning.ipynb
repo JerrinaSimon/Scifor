{
  "nbformat": 4,
  "nbformat_minor": 0,
  "metadata": {
    "colab": {
      "provenance": []
    },
    "kernelspec": {
      "name": "python3",
      "display_name": "Python 3"
    },
    "language_info": {
      "name": "python"
    }
  },
  "cells": [
    {
      "cell_type": "code",
      "source": [
        "import numpy as np\n",
        "import matplotlib.pyplot as plt\n",
        "from tensorflow.keras.models import Sequential\n",
        "from tensorflow.keras.layers import Dense, Flatten\n",
        "from tensorflow.keras.datasets import mnist\n",
        "\n"
      ],
      "metadata": {
        "id": "uwA3pSO3CzGZ"
      },
      "execution_count": 1,
      "outputs": []
    },
    {
      "cell_type": "code",
      "source": [
        "def load_data_NN():\n",
        "    (train_x, train_y), (test_x, test_y) = mnist.load_data()\n",
        "    train_x = train_x.astype('float32')\n",
        "    test_x = test_x.astype('float32')\n",
        "    train_x /= 255\n",
        "    test_x /= 255\n",
        "    train_x = train_x.reshape(train_x.shape[0], 28, 28, 1)\n",
        "    test_x = test_x.reshape(test_x.shape[0], 28, 28, 1)\n",
        "    return train_x, train_y, test_x, test_y"
      ],
      "metadata": {
        "id": "UWD9g2X1nXCH"
      },
      "execution_count": 2,
      "outputs": []
    },
    {
      "cell_type": "code",
      "source": [
        "def DNN():\n",
        "    model_dnn = Sequential()\n",
        "    model_dnn.add(Flatten(input_shape=(28, 28, 1)))  # input layer\n",
        "    model_dnn.add(Dense(128, activation='relu'))\n",
        "    model_dnn.add(Dense(128, activation='relu'))\n",
        "    model_dnn.add(Dense(10, activation='softmax'))\n",
        "    model_dnn.compile(optimizer=\"adam\",\n",
        "                      loss=\"sparse_categorical_crossentropy\", metrics=[\"accuracy\"])\n",
        "    return model_dnn\n"
      ],
      "metadata": {
        "id": "0APiGXqzDUFR"
      },
      "execution_count": 3,
      "outputs": []
    },
    {
      "cell_type": "code",
      "source": [
        "def sample_prediction(index, x_test, y_test, model):\n",
        "    plt.imshow(x_test[index].reshape(28, 28), cmap='Greys')\n",
        "    pred = model.predict(x_test[index].reshape(1, 28, 28, 1))\n",
        "    print(np.argmax(pred))\n",
        "\n"
      ],
      "metadata": {
        "id": "mNR15Sqrg_Eq"
      },
      "execution_count": 4,
      "outputs": []
    },
    {
      "cell_type": "code",
      "source": [
        "if __name__ == \"__main__\":\n",
        "    # load data\n",
        "    x_train, y_train, x_test, y_test = load_data_NN()\n",
        "    # load the model\n",
        "    model = DNN()\n",
        "    print(\"Model Training\")\n",
        "    model.fit(x_train, y_train, epochs=5)\n",
        "    print(\"Model Evaluation\")\n",
        "    model.evaluate(x_test, y_test)\n",
        "    score1 = model.evaluate(x_test, y_test, verbose=1)\n",
        "    print('\\nDNN Model Test accuracy:', score1[1])\n",
        "    print(\"\\nSample Prediction\")\n",
        "    sample_prediction(20, x_test, y_test, model)\n"
      ],
      "metadata": {
        "id": "V16mtN7ii8TR",
        "colab": {
          "base_uri": "https://localhost:8080/",
          "height": 777
        },
        "outputId": "4d0de789-42b7-46a8-c1c4-2453c05d4cd5"
      },
      "execution_count": 5,
      "outputs": [
        {
          "output_type": "stream",
          "name": "stdout",
          "text": [
            "Model Training\n",
            "Epoch 1/5\n",
            "1875/1875 [==============================] - 20s 10ms/step - loss: 0.2292 - accuracy: 0.9326\n",
            "Epoch 2/5\n",
            "1875/1875 [==============================] - 8s 4ms/step - loss: 0.0969 - accuracy: 0.9699\n",
            "Epoch 3/5\n",
            "1875/1875 [==============================] - 9s 5ms/step - loss: 0.0678 - accuracy: 0.9788\n",
            "Epoch 4/5\n",
            "1875/1875 [==============================] - 8s 4ms/step - loss: 0.0522 - accuracy: 0.9836\n",
            "Epoch 5/5\n",
            "1875/1875 [==============================] - 7s 4ms/step - loss: 0.0409 - accuracy: 0.9868\n",
            "Model Evaluation\n",
            "313/313 [==============================] - 1s 2ms/step - loss: 0.1066 - accuracy: 0.9702\n",
            "313/313 [==============================] - 1s 2ms/step - loss: 0.1066 - accuracy: 0.9702\n",
            "\n",
            "DNN Model Test accuracy: 0.9702000021934509\n",
            "\n",
            "Sample Prediction\n",
            "1/1 [==============================] - 0s 96ms/step\n",
            "9\n"
          ]
        },
        {
          "output_type": "display_data",
          "data": {
            "text/plain": [
              "<Figure size 640x480 with 1 Axes>"
            ],
            "image/png": "[encoded data removed]"
          },
          "metadata": {}
        }
      ]
    }
  ]
}