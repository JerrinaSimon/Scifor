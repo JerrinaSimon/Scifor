{
 "cells": [
  {
   "cell_type": "code",
   "execution_count": 1,
   "metadata": {},
   "outputs": [],
   "source": [
    "#1.Merge Strings Alternately\n",
    "# https://leetcode.com/problems/merge-strings-alternately/?envType=study-plan-v2&envId=programming-skills\n",
    "class Solution:\n",
    "    def mergeAlternately(self, word1: str, word2: str) -> str:\n",
    "      i=0\n",
    "      result=\"\"\n",
    "      while i<len(word1) and i<len(word2):\n",
    "          result+=word1[i]+word2[i]\n",
    "          i+=1\n",
    "      result+=(word1[i:]+word2[i:])\n",
    "      return result"
   ]
  },
  {
   "cell_type": "code",
   "execution_count": 2,
   "metadata": {},
   "outputs": [],
   "source": [
    "#2. Find the Difference\n",
    "#https://leetcode.com/problems/find-the-difference/?envType=study-plan-v2&envId=programming-skills\n",
    "class Solution:\n",
    "    def findTheDifference(self, s: str, t: str) -> str:\n",
    "        result=0\n",
    "        for c in s:\n",
    "            result^=ord(c)\n",
    "        for c in t:\n",
    "            result^=ord(c)\n",
    "        return chr(result)"
   ]
  },
  {
   "cell_type": "code",
   "execution_count": 3,
   "metadata": {},
   "outputs": [],
   "source": [
    "#3.Find the Index of the First Occurrence in a String\n",
    "#https://leetcode.com/problems/find-the-index-of-the-first-occurrence-in-a-string/?envType=study-plan-v2&envId=programming-skills\n",
    "class Solution:\n",
    "    def strStr(self, haystack: str, needle: str) -> int:\n",
    "        return haystack.find(needle)"
   ]
  },
  {
   "cell_type": "code",
   "execution_count": 4,
   "metadata": {},
   "outputs": [],
   "source": [
    "#4. Valid Anagram\n",
    "#https://leetcode.com/problems/valid-anagram/?envType=study-plan-v2&envId=programming-skills\n",
    "class Solution:\n",
    "    def isAnagram(self, s: str, t: str) -> bool:\n",
    "        if sorted(s)==sorted(t):\n",
    "            return True\n",
    "        else:\n",
    "            return False"
   ]
  },
  {
   "cell_type": "code",
   "execution_count": 5,
   "metadata": {},
   "outputs": [],
   "source": [
    "#5.Repeated Substring Pattern\n",
    "# https://leetcode.com/problems/repeated-substring-pattern/?envType=study-plan-v2&envId=programming-skills\n",
    "class Solution:\n",
    "    def repeatedSubstringPattern(self, s: str) -> bool:\n",
    "        n=len(s)\n",
    "        for length in range(1,n//2+1):\n",
    "            if n%length==0:\n",
    "                sub_string=s[:length]\n",
    "                if sub_string*(n//length)==s:\n",
    "                    return True\n",
    "        return False"
   ]
  },
  {
   "cell_type": "code",
   "execution_count": 2,
   "metadata": {},
   "outputs": [],
   "source": [
    "#6. Move Zeroes\n",
    "# https://leetcode.com/problems/move-zeroes/?envType=study-plan-v2&envId=programming-skills\n",
    "from typing import List\n",
    "class Solution:\n",
    "    def moveZeroes(self, nums: List[int]) -> None:\n",
    "       nonzerovalue=[i for i in nums if i!=0]\n",
    "       zerovalue=[0]*(len(nums)-len(nonzerovalue))\n",
    "       nums[:]=nonzerovalue + zerovalue"
   ]
  },
  {
   "cell_type": "code",
   "execution_count": 8,
   "metadata": {},
   "outputs": [],
   "source": [
    "#7.Plus One\n",
    "#https://leetcode.com/problems/plus-one/?envType=study-plan-v2&envId=programming-skills\n",
    "class Solution:\n",
    "    def plusOne(self, digits: List[int]) -> List[int]:\n",
    "        from typing import List\n",
    "        arr=[]\n",
    "        carry=1\n",
    "        for digits in reversed(digits):\n",
    "           sum= digits+carry\n",
    "           arr.insert(0,sum%10)\n",
    "           carry=sum//10\n",
    "        if carry:\n",
    "            arr.insert(0,carry)\n",
    "            \n",
    "        return arr"
   ]
  },
  {
   "cell_type": "code",
   "execution_count": 9,
   "metadata": {},
   "outputs": [],
   "source": [
    "#8.Sign of the Product of an Array\n",
    "#https://leetcode.com/problems/sign-of-the-product-of-an-array/?envType=study-plan-v2&envId=programming-skills\n",
    "class Solution:\n",
    "    def arraySign(self, nums: List[int]) -> int:\n",
    "        import math\n",
    "        product=math.prod(nums)\n",
    "        return self.signFunc(product)\n",
    "    def signFunc(self,num):\n",
    "       if num>=1:\n",
    "           return 1\n",
    "       elif num<0:\n",
    "            return -1\n",
    "       else:\n",
    "            return 0"
   ]
  },
  {
   "cell_type": "code",
   "execution_count": 10,
   "metadata": {},
   "outputs": [],
   "source": [
    "#9. Can Make Arithmetic Progression From Sequence\n",
    "#https://leetcode.com/problems/can-make-arithmetic-progression-from-sequence/\n",
    "class Solution:\n",
    "    def canMakeArithmeticProgression(self, arr: List[int]) -> bool:\n",
    "        arr.sort()\n",
    "        diff=arr[1]-arr[0]\n",
    "        for i in range(1,len(arr)-1):\n",
    "            if arr[i+1]-arr[i]!=diff:\n",
    "                return False\n",
    "        return True"
   ]
  },
  {
   "cell_type": "code",
   "execution_count": 3,
   "metadata": {},
   "outputs": [],
   "source": [
    "#10.Monotonic Array\n",
    "# https://leetcode.com/problems/monotonic-array/?envType=study-plan-v2&envId=programming-skills\n",
    "class Solution:\n",
    "    def isMonotonic(self, nums: List[int]) -> bool:\n",
    "        increase=decrease=True\n",
    "        for i in range(1,len(nums)):\n",
    "            if nums[i]>nums[i-1]:\n",
    "                decrease=False\n",
    "            elif nums[i]<nums[i-1]:\n",
    "                increase=False\n",
    "        return increase or decrease"
   ]
  },
  {
   "cell_type": "code",
   "execution_count": 4,
   "metadata": {},
   "outputs": [],
   "source": [
    "#11Roman to Integer\n",
    "# https://leetcode.com/problems/roman-to-integer/?envType=study-plan-v2&envId=programming-skills\n",
    "class Solution:\n",
    "    def romanToInt(self, s: str) -> int:\n",
    "        roman_numeral={\n",
    "         'I':1,\n",
    "         'V':5,\n",
    "         'X':10,\n",
    "         'L':50,\n",
    "         'C':100,\n",
    "         'D':500,\n",
    "         'M':1000\n",
    "        }\n",
    "        total=0\n",
    "        prev_value=0\n",
    "        for numeral in reversed(s):\n",
    "            value=roman_numeral[numeral]\n",
    "            if value>=prev_value:\n",
    "                total+=value\n",
    "            else:\n",
    "                total-=value\n",
    "            prev_value=value\n",
    "        return total"
   ]
  }
 ],
 "metadata": {
  "kernelspec": {
   "display_name": "Python 3",
   "language": "python",
   "name": "python3"
  },
  "language_info": {
   "codemirror_mode": {
    "name": "ipython",
    "version": 3
   },
   "file_extension": ".py",
   "mimetype": "text/x-python",
   "name": "python",
   "nbconvert_exporter": "python",
   "pygments_lexer": "ipython3",
   "version": "3.8.5"
  }
 },
 "nbformat": 4,
 "nbformat_minor": 4
}
