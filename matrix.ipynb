{
 "cells": [
  {
   "cell_type": "code",
   "execution_count": 2,
   "metadata": {},
   "outputs": [],
   "source": [
    "#1. Richest Customer Wealth\n",
    "#https://leetcode.com/problems/richest-customer-wealth/?envType=study-plan-v2&envId=programming-skills\n",
    "from typing import List\n",
    "class Solution:\n",
    "    def maximumWealth(self, accounts: List[List[int]]) -> int:\n",
    "      wealth=0\n",
    "      for i in accounts:\n",
    "          wealth=max(wealth,sum(i))\n",
    "      return wealth"
   ]
  },
  {
   "cell_type": "code",
   "execution_count": 3,
   "metadata": {},
   "outputs": [],
   "source": [
    "#2 Matrix Diagonal Sum\n",
    "#https://leetcode.com/problems/matrix-diagonal-sum/submissions/?envType=study-plan-v2&envId=programming-skills\n",
    "class Solution:\n",
    "    def diagonalSum(self, mat: List[List[int]]) -> int:\n",
    "        diag_sum=0\n",
    "        x=len(mat)\n",
    "        for i in range(x):\n",
    "            diag_sum+=mat[i][i]+mat[i][x-i-1]\n",
    "        if x%2==1:\n",
    "            diag_sum-=mat[x//2][x//2]\n",
    "        return diag_sum"
   ]
  },
  {
   "cell_type": "code",
   "execution_count": 4,
   "metadata": {},
   "outputs": [],
   "source": [
    "#3 Spiral Matrix\n",
    "# https://leetcode.com/problems/spiral-matrix/\n",
    "class Solution:\n",
    "    def spiralOrder(self, matrix: List[List[int]]) -> List[int]:\n",
    "        res=[]\n",
    "        while matrix:\n",
    "            res+=matrix.pop(0)\n",
    "            if matrix and matrix[0]:\n",
    "                for row in matrix:\n",
    "                    res.append(row.pop())\n",
    "            if matrix:\n",
    "                res=res+matrix.pop()[::-1]\n",
    "            if matrix and matrix[0]:\n",
    "                for row in matrix[::-1]:\n",
    "                    res.append(row.pop(0))\n",
    "        return res"
   ]
  },
  {
   "cell_type": "code",
   "execution_count": 5,
   "metadata": {},
   "outputs": [],
   "source": [
    "#4 Set Matrix Zeroes\n",
    "# https://leetcode.com/problems/set-matrix-zeroes/submissions/?envType=study-plan-v2&envId=programming-skills\n",
    "class Solution:\n",
    "    def setZeroes(self, matrix: List[List[int]]) -> None:\n",
    "        if not matrix or not matrix[0]:\n",
    "            return\n",
    "        rows, cols = len(matrix), len(matrix[0])\n",
    "        first_row_has_zero = any(matrix[0][j] == 0 for j in range(cols))\n",
    "        first_col_has_zero = any(matrix[i][0] == 0 for i in range(rows))\n",
    "        for i in range(1, rows):\n",
    "            for j in range(1, cols):\n",
    "                if matrix[i][j] == 0:\n",
    "                    matrix[i][0] = matrix[0][j] = 0\n",
    "        for i in range(1, rows):\n",
    "            for j in range(1, cols):\n",
    "                if matrix[i][0] == 0 or matrix[0][j] == 0:\n",
    "                    matrix[i][j] = 0\n",
    "        if first_row_has_zero:\n",
    "            for j in range(cols):\n",
    "                matrix[0][j] = 0\n",
    "        if first_col_has_zero:\n",
    "            for i in range(rows):\n",
    "                matrix[i][0] = 0"
   ]
  }
 ],
 "metadata": {
  "kernelspec": {
   "display_name": "Python 3",
   "language": "python",
   "name": "python3"
  },
  "language_info": {
   "codemirror_mode": {
    "name": "ipython",
    "version": 3
   },
   "file_extension": ".py",
   "mimetype": "text/x-python",
   "name": "python",
   "nbconvert_exporter": "python",
   "pygments_lexer": "ipython3",
   "version": "3.8.5"
  }
 },
 "nbformat": 4,
 "nbformat_minor": 4
}
