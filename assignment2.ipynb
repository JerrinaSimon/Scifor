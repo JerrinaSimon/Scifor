{
 "cells": [
  {
   "cell_type": "markdown",
   "metadata": {},
   "source": [
    "1.What is the difference between a list and a tuple in Python?"
   ]
  },
  {
   "cell_type": "markdown",
   "metadata": {},
   "source": [
    "List\n",
    "\n",
    "List is mutable.\n",
    "\n",
    "List is created using square bracket.\n",
    "\n",
    "List consumes more memory.\n",
    "\n",
    "list is better for performing operations eg.insertion and deletion\n",
    "\n",
    "Tuple\n",
    "\n",
    "Tuple is immutable.\n",
    "\n",
    "Tuple is created using paranthesis.\n",
    "\n",
    "Tuple consumes less memory when compared to list.\n",
    "\n",
    "Tuple data type is appropriate for accessing the elements."
   ]
  },
  {
   "cell_type": "markdown",
   "metadata": {},
   "source": [
    "2.How can you iterate through a list in Python?"
   ]
  },
  {
   "cell_type": "code",
   "execution_count": 22,
   "metadata": {},
   "outputs": [
    {
     "name": "stdout",
     "output_type": "stream",
     "text": [
      "1\n",
      "2\n",
      "3\n",
      "4\n",
      "5\n"
     ]
    }
   ],
   "source": [
    "#Using For Loop\n",
    "list = [1, 2, 3, 4, 5]\n",
    "for i in list:\n",
    "    print(i)"
   ]
  },
  {
   "cell_type": "code",
   "execution_count": 19,
   "metadata": {},
   "outputs": [
    {
     "name": "stdout",
     "output_type": "stream",
     "text": [
      "apple\n",
      "orange\n",
      "banana\n"
     ]
    }
   ],
   "source": [
    "#Using while loop:\n",
    "list=[\"apple\",\"orange\",\"banana\"]\n",
    "i=0\n",
    "while i<len(list):\n",
    "    print(list[i])\n",
    "    i+=1"
   ]
  },
  {
   "cell_type": "code",
   "execution_count": 20,
   "metadata": {},
   "outputs": [
    {
     "name": "stdout",
     "output_type": "stream",
     "text": [
      "1\n",
      "3\n",
      "5\n",
      "6\n"
     ]
    }
   ],
   "source": [
    "#using range function\n",
    "list=[1,3,5,6]\n",
    "for i in range(len(list)):\n",
    "    print(list[i])"
   ]
  },
  {
   "cell_type": "code",
   "execution_count": 21,
   "metadata": {},
   "outputs": [
    {
     "name": "stdout",
     "output_type": "stream",
     "text": [
      "Index:0,Value:2\n",
      "Index:1,Value:5\n",
      "Index:2,Value:8\n",
      "Index:3,Value:10\n"
     ]
    }
   ],
   "source": [
    "# Using Enumerate\n",
    "List=[2,5,8,10]\n",
    "for i,j in enumerate(List):\n",
    "    print(f\"Index:{i},Value:{j}\")"
   ]
  },
  {
   "cell_type": "markdown",
   "metadata": {},
   "source": [
    "3.How do you handle exceptions in Python?"
   ]
  },
  {
   "cell_type": "markdown",
   "metadata": {},
   "source": [
    "The exception can be handled using try and except clause.Code can raise the  exception in try clause.in except clause it will handle the exception. "
   ]
  },
  {
   "cell_type": "code",
   "execution_count": 28,
   "metadata": {},
   "outputs": [
    {
     "name": "stdout",
     "output_type": "stream",
     "text": [
      "enter the number0\n",
      "Cannot find the reciprocal\n"
     ]
    }
   ],
   "source": [
    "num=int(input(\"enter the number\"))\n",
    "try:\n",
    "    r=1/num\n",
    "    print(\"The reciprocal of the num is\",r)\n",
    "except:\n",
    "    print(\"Cannot find the reciprocal\")\n",
    "    "
   ]
  },
  {
   "cell_type": "markdown",
   "metadata": {},
   "source": [
    "4.What are list comprehensions in Python?"
   ]
  },
  {
   "cell_type": "markdown",
   "metadata": {},
   "source": [
    "List comprehension provide a shorter syntax for creating a new list from the existing list."
   ]
  },
  {
   "cell_type": "code",
   "execution_count": 30,
   "metadata": {},
   "outputs": [
    {
     "data": {
      "text/plain": [
       "[2, 4, 6, 8]"
      ]
     },
     "execution_count": 30,
     "metadata": {},
     "output_type": "execute_result"
    }
   ],
   "source": [
    "#get even numbers\n",
    "List=[1,2,3,4,5,6,7,8]\n",
    "new_list=[x for x in List if x%2==0]\n",
    "new_list"
   ]
  },
  {
   "cell_type": "markdown",
   "metadata": {},
   "source": [
    "5.What is the purpose of the if __name__ == \"__main__\" statement?"
   ]
  },
  {
   "cell_type": "raw",
   "metadata": {},
   "source": [
    "if __name__ == \"__main__\" statement is used to check whether the code has run directly or imported from another module."
   ]
  },
  {
   "cell_type": "markdown",
   "metadata": {},
   "source": [
    "6.What is the purpose of the with statement in Python?"
   ]
  },
  {
   "cell_type": "markdown",
   "metadata": {},
   "source": [
    "The with statement is used to m ake the code cleaner and more readable."
   ]
  }
 ],
 "metadata": {
  "kernelspec": {
   "display_name": "Python 3",
   "language": "python",
   "name": "python3"
  },
  "language_info": {
   "codemirror_mode": {
    "name": "ipython",
    "version": 3
   },
   "file_extension": ".py",
   "mimetype": "text/x-python",
   "name": "python",
   "nbconvert_exporter": "python",
   "pygments_lexer": "ipython3",
   "version": "3.8.5"
  }
 },
 "nbformat": 4,
 "nbformat_minor": 4
}
