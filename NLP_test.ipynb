{
  "nbformat": 4,
  "nbformat_minor": 0,
  "metadata": {
    "colab": {
      "provenance": []
    },
    "kernelspec": {
      "name": "python3",
      "display_name": "Python 3"
    },
    "language_info": {
      "name": "python"
    }
  },
  "cells": [
    {
      "cell_type": "markdown",
      "source": [
        "Q1.What you understand by Text Processing? Write a code to perform text processing"
      ],
      "metadata": {
        "id": "zkKMUh1HZwJr"
      }
    },
    {
      "cell_type": "markdown",
      "source": [
        "Ans:Text processing refers to the process of manipulating and analysis of a given text inorder to extract meaningful information.It involves process such as cleaning,tokenisation,stemming,leammatization and more."
      ],
      "metadata": {
        "id": "0NxXg-dFZ6nE"
      }
    },
    {
      "cell_type": "code",
      "source": [
        "import re\n",
        "text=\"Text processing refers to the process of manipulating and analysis of a given text inorder to extract meaningful information.\"\n",
        "new_text=re.sub('[^A-Za-z0-9 ]+', '', text)\n",
        "new_text=new_text.lower\n",
        "print(\"Original Text:\", text)\n",
        "print(\"new Text:\", new_text)"
      ],
      "metadata": {
        "colab": {
          "base_uri": "https://localhost:8080/"
        },
        "id": "zLXem4heZ5pT",
        "outputId": "d48d4b40-4073-4927-d3af-df779eb08efc"
      },
      "execution_count": 2,
      "outputs": [
        {
          "output_type": "stream",
          "name": "stdout",
          "text": [
            "Original Text: Text processing refers to the process of manipulating and analysis of a given text inorder to extract meaningful information.\n",
            "new Text: <built-in method lower of str object at 0x7c48a749f3c0>\n"
          ]
        }
      ]
    },
    {
      "cell_type": "markdown",
      "source": [
        "Q2.What you understand by NLP toolkit and spacy library? Write a code in which any one gets used."
      ],
      "metadata": {
        "id": "6hqDpJtdb0y2"
      }
    },
    {
      "cell_type": "markdown",
      "source": [
        "Ans:NLP(Natural language processing)toolkits is  the libaries that can provide inbuilt functionalities and tools when working with natural language data.Spacy is one of such nlp libaries used for natural language processing data.i.e help in processing and analysing human language.It offer capabilities likes tokenization,part-of-speech tagging and more."
      ],
      "metadata": {
        "id": "XCqUCuBbb3EO"
      }
    },
    {
      "cell_type": "code",
      "source": [
        "import spacy\n",
        "nlp=spacy.load(\"en_core_web_sm\")#loading the english language model.\n",
        "text=\"Text processing refers to the process of manipulating and analysis of a given text inorder to extract meaningful information.\"\n",
        "#process the text using spacy\n",
        "doc=nlp(text)\n",
        "#tokenization\n",
        "tokens = [token.text for token in doc]\n",
        "print(\"Tokens:\", tokens)\n"
      ],
      "metadata": {
        "colab": {
          "base_uri": "https://localhost:8080/"
        },
        "id": "H_kZODJxbh5N",
        "outputId": "e9d4bf1a-f624-4517-d71b-faf1178291d5"
      },
      "execution_count": 3,
      "outputs": [
        {
          "output_type": "stream",
          "name": "stdout",
          "text": [
            "Tokens: ['Text', 'processing', 'refers', 'to', 'the', 'process', 'of', 'manipulating', 'and', 'analysis', 'of', 'a', 'given', 'text', 'inorder', 'to', 'extract', 'meaningful', 'information', '.']\n"
          ]
        }
      ]
    },
    {
      "cell_type": "markdown",
      "source": [
        "Q3.Describe Neural Networks and Deep Learning in Depth"
      ],
      "metadata": {
        "id": "OuOpvypDeHDI"
      }
    },
    {
      "cell_type": "markdown",
      "source": [
        "Ans:Neural network is a computational model inspired by the human brain,it consists of interconnected layers,These layers typically include an input layer, one or more hidden layers, and an output layer in which information passes through this nodes during forward propagation. in which each neuron is applying a weighted sum and activation function.Learning occurs through back propagation where the weights are adjusted based on the error occuring between the actual and predicted value.\n",
        " Deep learning, a subset of machine learning,which mainly focuses on deep neural networks with multiple layers. The increased depth enables automatic discovery and extraction of complex patterns, eliminating the need for manual feature engineering."
      ],
      "metadata": {
        "id": "VzjokHGCeLtP"
      }
    },
    {
      "cell_type": "markdown",
      "source": [
        "Q4.what you understand by Hyperparameter Tuning?"
      ],
      "metadata": {
        "id": "NLQeY9W3gioQ"
      }
    },
    {
      "cell_type": "markdown",
      "source": [
        "Ans:Hyperparameter tuning is a optimising hyperparameter in machine learning model which improves model's performance.finding the optimal values will be crucial for achieving better accuracy."
      ],
      "metadata": {
        "id": "1wRoKel3goNk"
      }
    },
    {
      "cell_type": "markdown",
      "source": [
        "Q5.What you understand by Ensemble Learning?"
      ],
      "metadata": {
        "id": "YDyMNLKKhwjO"
      }
    },
    {
      "cell_type": "markdown",
      "source": [
        "Ans:Ensemble learning invloves combining the prediction of multiple model,to improve overall performance and accuracy."
      ],
      "metadata": {
        "id": "s2iKeAWXh23j"
      }
    },
    {
      "cell_type": "markdown",
      "source": [
        "Q6.What do you understand by Model Evaluation and Selection ?"
      ],
      "metadata": {
        "id": "h7Gt-qUNiqzA"
      }
    },
    {
      "cell_type": "markdown",
      "source": [
        "Ans:Model evaluation involves assessing a model's performance,it involves how well the model perform on new, unseen data  and model selection is about choosing the best-performing model from a set of  models. This process considers various factors, including the model's complexity, interpretability, and its ability to generalize well to new data."
      ],
      "metadata": {
        "id": "gSkXeqosiyd0"
      }
    },
    {
      "cell_type": "markdown",
      "source": [
        "Q7.What you understand by Feature Engineering and Feature selection? What is the difference between them?"
      ],
      "metadata": {
        "id": "gezGZo4mjxp9"
      }
    },
    {
      "cell_type": "markdown",
      "source": [
        "Ans:Feature engineering is the process of creating new features or modifying existing ones to improve the performance of a machine learning model. It involves transforming raw data into a format that enhances the model's ability to learn patterns and make accurate predictions, Feature selection is the process of choosing a subset of the most relevant features from the original feature set. The goal is to eliminate less informative features, simplifying the model and potentially improving its efficiency and generalization.\n",
        "\n",
        "*   Difference\n",
        "*   Feature Engineering focuses on creating new features or modifying existing ones to enhance the dataset.whereas Feature Selection focuses on selecting the most relevant features from the existing set.\n",
        "*  Feature Engineering involves adding, combining, or transforming features.Wheras Feature Selection involves removing or discarding features.\n",
        "*   \n",
        "\n",
        "\n",
        "\n"
      ],
      "metadata": {
        "id": "5gbBoX-vj5p2"
      }
    }
  ]
}